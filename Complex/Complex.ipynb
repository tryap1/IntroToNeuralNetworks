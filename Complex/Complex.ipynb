{
 "cells": [
  {
   "cell_type": "code",
   "execution_count": 1,
   "metadata": {},
   "outputs": [],
   "source": [
    "import tensorflow as tf\n",
    "from tensorflow import keras\n",
    "import pandas as pd\n",
    "import numpy as np"
   ]
  },
  {
   "cell_type": "code",
   "execution_count": 3,
   "metadata": {},
   "outputs": [
    {
     "data": {
      "text/html": [
       "<div>\n",
       "<style scoped>\n",
       "    .dataframe tbody tr th:only-of-type {\n",
       "        vertical-align: middle;\n",
       "    }\n",
       "\n",
       "    .dataframe tbody tr th {\n",
       "        vertical-align: top;\n",
       "    }\n",
       "\n",
       "    .dataframe thead th {\n",
       "        text-align: right;\n",
       "    }\n",
       "</style>\n",
       "<table border=\"1\" class=\"dataframe\">\n",
       "  <thead>\n",
       "    <tr style=\"text-align: right;\">\n",
       "      <th></th>\n",
       "      <th>x</th>\n",
       "      <th>y</th>\n",
       "      <th>color</th>\n",
       "    </tr>\n",
       "  </thead>\n",
       "  <tbody>\n",
       "    <tr>\n",
       "      <th>0</th>\n",
       "      <td>2.375386</td>\n",
       "      <td>-2.151675</td>\n",
       "      <td>0.0</td>\n",
       "    </tr>\n",
       "    <tr>\n",
       "      <th>1</th>\n",
       "      <td>0.155175</td>\n",
       "      <td>-3.939919</td>\n",
       "      <td>1.0</td>\n",
       "    </tr>\n",
       "    <tr>\n",
       "      <th>2</th>\n",
       "      <td>0.580631</td>\n",
       "      <td>-2.425793</td>\n",
       "      <td>1.0</td>\n",
       "    </tr>\n",
       "    <tr>\n",
       "      <th>3</th>\n",
       "      <td>2.045291</td>\n",
       "      <td>-2.755232</td>\n",
       "      <td>0.0</td>\n",
       "    </tr>\n",
       "    <tr>\n",
       "      <th>4</th>\n",
       "      <td>0.637783</td>\n",
       "      <td>-1.396165</td>\n",
       "      <td>1.0</td>\n",
       "    </tr>\n",
       "  </tbody>\n",
       "</table>\n",
       "</div>"
      ],
      "text/plain": [
       "          x         y  color\n",
       "0  2.375386 -2.151675    0.0\n",
       "1  0.155175 -3.939919    1.0\n",
       "2  0.580631 -2.425793    1.0\n",
       "3  2.045291 -2.755232    0.0\n",
       "4  0.637783 -1.396165    1.0"
      ]
     },
     "execution_count": 3,
     "metadata": {},
     "output_type": "execute_result"
    }
   ],
   "source": [
    "train_df = pd.read_csv('train.csv')\n",
    "train_df.head()"
   ]
  },
  {
   "cell_type": "code",
   "execution_count": 12,
   "metadata": {},
   "outputs": [
    {
     "name": "stdout",
     "output_type": "stream",
     "text": [
      "Train on 20000 samples\n",
      "Epoch 1/20\n",
      "20000/20000 [==============================] - 2s 100us/sample - loss: 0.6341 - accuracy: 0.6267\n",
      "Epoch 2/20\n",
      "20000/20000 [==============================] - 2s 80us/sample - loss: 0.5859 - accuracy: 0.7125\n",
      "Epoch 3/20\n",
      "20000/20000 [==============================] - 2s 81us/sample - loss: 0.5581 - accuracy: 0.7383\n",
      "Epoch 4/20\n",
      "20000/20000 [==============================] - 2s 82us/sample - loss: 0.5476 - accuracy: 0.7481\n",
      "Epoch 5/20\n",
      "20000/20000 [==============================] - 2s 81us/sample - loss: 0.5398 - accuracy: 0.7541\n",
      "Epoch 6/20\n",
      "20000/20000 [==============================] - 2s 80us/sample - loss: 0.5350 - accuracy: 0.7606\n",
      "Epoch 7/20\n",
      "20000/20000 [==============================] - 2s 80us/sample - loss: 0.5318 - accuracy: 0.7605\n",
      "Epoch 8/20\n",
      "20000/20000 [==============================] - 2s 79us/sample - loss: 0.5257 - accuracy: 0.7660\n",
      "Epoch 9/20\n",
      "20000/20000 [==============================] - 2s 84us/sample - loss: 0.5243 - accuracy: 0.7674\n",
      "Epoch 10/20\n",
      "20000/20000 [==============================] - 2s 96us/sample - loss: 0.5233 - accuracy: 0.7682\n",
      "Epoch 11/20\n",
      "20000/20000 [==============================] - 2s 92us/sample - loss: 0.5184 - accuracy: 0.7752\n",
      "Epoch 12/20\n",
      "20000/20000 [==============================] - 2s 83us/sample - loss: 0.5187 - accuracy: 0.7780\n",
      "Epoch 13/20\n",
      "20000/20000 [==============================] - 2s 80us/sample - loss: 0.5151 - accuracy: 0.7812\n",
      "Epoch 14/20\n",
      "20000/20000 [==============================] - 2s 84us/sample - loss: 0.5113 - accuracy: 0.7866\n",
      "Epoch 15/20\n",
      "20000/20000 [==============================] - 2s 80us/sample - loss: 0.5111 - accuracy: 0.7876\n",
      "Epoch 16/20\n",
      "20000/20000 [==============================] - 2s 82us/sample - loss: 0.5068 - accuracy: 0.7991\n",
      "Epoch 17/20\n",
      "20000/20000 [==============================] - 2s 82us/sample - loss: 0.4983 - accuracy: 0.8063\n",
      "Epoch 18/20\n",
      "20000/20000 [==============================] - 2s 85us/sample - loss: 0.4976 - accuracy: 0.8086\n",
      "Epoch 19/20\n",
      "20000/20000 [==============================] - 2s 95us/sample - loss: 0.4957 - accuracy: 0.8088\n",
      "Epoch 20/20\n",
      "20000/20000 [==============================] - 2s 98us/sample - loss: 0.4931 - accuracy: 0.8133\n"
     ]
    },
    {
     "data": {
      "text/plain": [
       "<tensorflow.python.keras.callbacks.History at 0x1d88daef948>"
      ]
     },
     "execution_count": 12,
     "metadata": {},
     "output_type": "execute_result"
    }
   ],
   "source": [
    "model = keras.Sequential([\n",
    "    keras.layers.Dense(256, input_shape =  (2,), activation = 'relu'),\n",
    "    keras.layers.Dropout(0.4),\n",
    "    keras.layers.Dense(256, activation = 'relu'),\n",
    "    keras.layers.Dropout(0.4),\n",
    "    keras.layers.Dense(256, activation = 'relu'),\n",
    "    keras.layers.Dropout(0.4),\n",
    "    keras.layers.Dense(2, activation = 'sigmoid')\n",
    "])\n",
    "\n",
    "model.compile(optimizer = 'adam',\n",
    "             loss = keras.losses.SparseCategoricalCrossentropy(from_logits = True),\n",
    "             metrics = ['accuracy'])\n",
    "x = np.column_stack((train_df['x'].values,train_df['y'].values))\n",
    "\n",
    "model.fit(x, train_df['color'].values, batch_size = 32, epochs = 20)"
   ]
  },
  {
   "cell_type": "code",
   "execution_count": 13,
   "metadata": {},
   "outputs": [
    {
     "name": "stdout",
     "output_type": "stream",
     "text": [
      "5000/5000 [==============================] - 0s 79us/sample - loss: 0.4716 - accuracy: 0.8280\n"
     ]
    },
    {
     "data": {
      "text/plain": [
       "[0.4715925567626953, 0.828]"
      ]
     },
     "execution_count": 13,
     "metadata": {},
     "output_type": "execute_result"
    }
   ],
   "source": [
    "test_df = pd.read_csv('test.csv')\n",
    "test_x = np.column_stack((test_df['x'].values,test_df['y'].values))\n",
    "model.evaluate(test_x,test_df['color'].values)"
   ]
  },
  {
   "cell_type": "code",
   "execution_count": null,
   "metadata": {},
   "outputs": [],
   "source": []
  }
 ],
 "metadata": {
  "kernelspec": {
   "display_name": "Python 3",
   "language": "python",
   "name": "python3"
  },
  "language_info": {
   "codemirror_mode": {
    "name": "ipython",
    "version": 3
   },
   "file_extension": ".py",
   "mimetype": "text/x-python",
   "name": "python",
   "nbconvert_exporter": "python",
   "pygments_lexer": "ipython3",
   "version": "3.7.7"
  }
 },
 "nbformat": 4,
 "nbformat_minor": 4
}
