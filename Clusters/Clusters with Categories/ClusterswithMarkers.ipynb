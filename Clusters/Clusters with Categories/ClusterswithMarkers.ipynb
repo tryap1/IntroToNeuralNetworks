{
 "cells": [
  {
   "cell_type": "code",
   "execution_count": 1,
   "metadata": {},
   "outputs": [],
   "source": [
    "import tensorflow as tf\n",
    "from tensorflow import keras\n",
    "import pandas as pd\n",
    "import numpy as np"
   ]
  },
  {
   "cell_type": "code",
   "execution_count": 2,
   "metadata": {},
   "outputs": [
    {
     "data": {
      "text/html": [
       "<div>\n",
       "<style scoped>\n",
       "    .dataframe tbody tr th:only-of-type {\n",
       "        vertical-align: middle;\n",
       "    }\n",
       "\n",
       "    .dataframe tbody tr th {\n",
       "        vertical-align: top;\n",
       "    }\n",
       "\n",
       "    .dataframe thead th {\n",
       "        text-align: right;\n",
       "    }\n",
       "</style>\n",
       "<table border=\"1\" class=\"dataframe\">\n",
       "  <thead>\n",
       "    <tr style=\"text-align: right;\">\n",
       "      <th></th>\n",
       "      <th>x</th>\n",
       "      <th>y</th>\n",
       "      <th>color</th>\n",
       "      <th>marker</th>\n",
       "    </tr>\n",
       "  </thead>\n",
       "  <tbody>\n",
       "    <tr>\n",
       "      <th>0</th>\n",
       "      <td>-0.765775</td>\n",
       "      <td>1.006452</td>\n",
       "      <td>red</td>\n",
       "      <td>^</td>\n",
       "    </tr>\n",
       "    <tr>\n",
       "      <th>1</th>\n",
       "      <td>0.229016</td>\n",
       "      <td>0.094320</td>\n",
       "      <td>red</td>\n",
       "      <td>^</td>\n",
       "    </tr>\n",
       "    <tr>\n",
       "      <th>2</th>\n",
       "      <td>0.189987</td>\n",
       "      <td>1.589141</td>\n",
       "      <td>red</td>\n",
       "      <td>^</td>\n",
       "    </tr>\n",
       "    <tr>\n",
       "      <th>3</th>\n",
       "      <td>0.580085</td>\n",
       "      <td>0.520488</td>\n",
       "      <td>red</td>\n",
       "      <td>^</td>\n",
       "    </tr>\n",
       "    <tr>\n",
       "      <th>4</th>\n",
       "      <td>0.292287</td>\n",
       "      <td>0.317852</td>\n",
       "      <td>red</td>\n",
       "      <td>^</td>\n",
       "    </tr>\n",
       "  </tbody>\n",
       "</table>\n",
       "</div>"
      ],
      "text/plain": [
       "          x         y color marker\n",
       "0 -0.765775  1.006452   red      ^\n",
       "1  0.229016  0.094320   red      ^\n",
       "2  0.189987  1.589141   red      ^\n",
       "3  0.580085  0.520488   red      ^\n",
       "4  0.292287  0.317852   red      ^"
      ]
     },
     "execution_count": 2,
     "metadata": {},
     "output_type": "execute_result"
    }
   ],
   "source": [
    "train_df = pd.read_csv('train.csv')\n",
    "np.random.shuffle(train_df.values)\n",
    "train_df.head()"
   ]
  },
  {
   "cell_type": "markdown",
   "metadata": {},
   "source": [
    "#### We have 2 labels we're dealing with here"
   ]
  },
  {
   "cell_type": "code",
   "execution_count": 3,
   "metadata": {},
   "outputs": [
    {
     "name": "stdout",
     "output_type": "stream",
     "text": [
      "['red' 'blue' 'green' 'teal' 'orange' 'purple']\n",
      "['^' '+' '*']\n"
     ]
    }
   ],
   "source": [
    "print(train_df['color'].unique())\n",
    "print(train_df['marker'].unique())"
   ]
  },
  {
   "cell_type": "code",
   "execution_count": 4,
   "metadata": {},
   "outputs": [],
   "source": [
    "color_dict = {'red': 0,'blue':1, 'green':2, 'teal':3, 'orange':4, 'purple':5}\n",
    "marker_dict = {'^':0, '+':1 , '*': 2}"
   ]
  },
  {
   "cell_type": "code",
   "execution_count": 5,
   "metadata": {},
   "outputs": [],
   "source": [
    "train_df['color'] = train_df['color'].map(color_dict)\n",
    "train_df['marker'] = train_df['marker'].map(marker_dict)"
   ]
  },
  {
   "cell_type": "markdown",
   "metadata": {},
   "source": [
    "#### While this approach will work, it also means that we will need 2 models; 1 for the color, and another for the marker"
   ]
  },
  {
   "cell_type": "code",
   "execution_count": 6,
   "metadata": {},
   "outputs": [
    {
     "data": {
      "text/html": [
       "<div>\n",
       "<style scoped>\n",
       "    .dataframe tbody tr th:only-of-type {\n",
       "        vertical-align: middle;\n",
       "    }\n",
       "\n",
       "    .dataframe tbody tr th {\n",
       "        vertical-align: top;\n",
       "    }\n",
       "\n",
       "    .dataframe thead th {\n",
       "        text-align: right;\n",
       "    }\n",
       "</style>\n",
       "<table border=\"1\" class=\"dataframe\">\n",
       "  <thead>\n",
       "    <tr style=\"text-align: right;\">\n",
       "      <th></th>\n",
       "      <th>x</th>\n",
       "      <th>y</th>\n",
       "      <th>color</th>\n",
       "      <th>marker</th>\n",
       "    </tr>\n",
       "  </thead>\n",
       "  <tbody>\n",
       "    <tr>\n",
       "      <th>0</th>\n",
       "      <td>-0.765775</td>\n",
       "      <td>1.006452</td>\n",
       "      <td>0</td>\n",
       "      <td>0</td>\n",
       "    </tr>\n",
       "    <tr>\n",
       "      <th>1</th>\n",
       "      <td>0.229016</td>\n",
       "      <td>0.094320</td>\n",
       "      <td>0</td>\n",
       "      <td>0</td>\n",
       "    </tr>\n",
       "    <tr>\n",
       "      <th>2</th>\n",
       "      <td>0.189987</td>\n",
       "      <td>1.589141</td>\n",
       "      <td>0</td>\n",
       "      <td>0</td>\n",
       "    </tr>\n",
       "    <tr>\n",
       "      <th>3</th>\n",
       "      <td>0.580085</td>\n",
       "      <td>0.520488</td>\n",
       "      <td>0</td>\n",
       "      <td>0</td>\n",
       "    </tr>\n",
       "    <tr>\n",
       "      <th>4</th>\n",
       "      <td>0.292287</td>\n",
       "      <td>0.317852</td>\n",
       "      <td>0</td>\n",
       "      <td>0</td>\n",
       "    </tr>\n",
       "  </tbody>\n",
       "</table>\n",
       "</div>"
      ],
      "text/plain": [
       "          x         y  color  marker\n",
       "0 -0.765775  1.006452      0       0\n",
       "1  0.229016  0.094320      0       0\n",
       "2  0.189987  1.589141      0       0\n",
       "3  0.580085  0.520488      0       0\n",
       "4  0.292287  0.317852      0       0"
      ]
     },
     "execution_count": 6,
     "metadata": {},
     "output_type": "execute_result"
    }
   ],
   "source": [
    "train_df.head()"
   ]
  },
  {
   "cell_type": "code",
   "execution_count": 7,
   "metadata": {},
   "outputs": [],
   "source": [
    "model1 = keras.Sequential([\n",
    "    keras.layers.Dense(32, input_shape = (2,), activation = 'relu'),\n",
    "    keras.layers.Dense(32, activation = 'relu'),\n",
    "    keras.layers.Dense(6, activation = 'sigmoid')\n",
    "])\n",
    "\n",
    "model2 = keras.Sequential([\n",
    "    keras.layers.Dense(64, input_shape = (2,), activation = 'relu'),\n",
    "    keras.layers.Dropout(0.2),\n",
    "    keras.layers.Dense(32, activation = 'relu'),\n",
    "    keras.layers.Dense(3, activation = 'sigmoid')\n",
    "])\n",
    "\n",
    "model1.compile(optimizer = 'adam',\n",
    "             loss = keras.losses.SparseCategoricalCrossentropy(from_logits = True),\n",
    "             metrics = ['accuracy'])\n",
    "\n",
    "model2.compile(optimizer = 'adam',\n",
    "             loss = keras.losses.SparseCategoricalCrossentropy(from_logits = True),\n",
    "             metrics = ['accuracy'])"
   ]
  },
  {
   "cell_type": "code",
   "execution_count": 8,
   "metadata": {},
   "outputs": [
    {
     "name": "stdout",
     "output_type": "stream",
     "text": [
      "Train on 6000 samples\n",
      "Epoch 1/5\n",
      "6000/6000 [==============================] - 3s 461us/sample - loss: 1.3378 - accuracy: 0.6553\n",
      "Epoch 2/5\n",
      "6000/6000 [==============================] - 2s 301us/sample - loss: 1.1789 - accuracy: 0.7940\n",
      "Epoch 3/5\n",
      "6000/6000 [==============================] - 2s 291us/sample - loss: 1.1443 - accuracy: 0.8663\n",
      "Epoch 4/5\n",
      "6000/6000 [==============================] - 2s 259us/sample - loss: 1.1164 - accuracy: 0.9520\n",
      "Epoch 5/5\n",
      "6000/6000 [==============================] - 2s 290us/sample - loss: 1.0973 - accuracy: 0.9682\n"
     ]
    },
    {
     "data": {
      "text/plain": [
       "<tensorflow.python.keras.callbacks.History at 0x2a539988708>"
      ]
     },
     "execution_count": 8,
     "metadata": {},
     "output_type": "execute_result"
    }
   ],
   "source": [
    "x = np.column_stack((train_df['x'].values, train_df['y'].values))\n",
    "model1.fit(x,train_df['color'].values,batch_size = 4, epochs = 5)"
   ]
  },
  {
   "cell_type": "code",
   "execution_count": 9,
   "metadata": {},
   "outputs": [
    {
     "name": "stdout",
     "output_type": "stream",
     "text": [
      "Train on 6000 samples\n",
      "Epoch 1/5\n",
      "6000/6000 [==============================] - 2s 404us/sample - loss: 0.7544 - accuracy: 0.7818\n",
      "Epoch 2/5\n",
      "6000/6000 [==============================] - 2s 385us/sample - loss: 0.6830 - accuracy: 0.8193\n",
      "Epoch 3/5\n",
      "6000/6000 [==============================] - 2s 339us/sample - loss: 0.6459 - accuracy: 0.8283\n",
      "Epoch 4/5\n",
      "6000/6000 [==============================] - 2s 392us/sample - loss: 0.6318 - accuracy: 0.8477\n",
      "Epoch 5/5\n",
      "6000/6000 [==============================] - 2s 281us/sample - loss: 0.6108 - accuracy: 0.9275\n"
     ]
    },
    {
     "data": {
      "text/plain": [
       "<tensorflow.python.keras.callbacks.History at 0x2a53ac9d488>"
      ]
     },
     "execution_count": 9,
     "metadata": {},
     "output_type": "execute_result"
    }
   ],
   "source": [
    "model2.fit(x,train_df['marker'].values,batch_size = 4, epochs = 5)"
   ]
  },
  {
   "cell_type": "code",
   "execution_count": 10,
   "metadata": {},
   "outputs": [
    {
     "name": "stdout",
     "output_type": "stream",
     "text": [
      "1200/1200 [==============================] - 0s 106us/sample - loss: 1.1080 - accuracy: 0.9358\n",
      "1200/1200 [==============================] - 0s 97us/sample - loss: 0.5910 - accuracy: 0.9667\n"
     ]
    },
    {
     "data": {
      "text/plain": [
       "[0.5910055176417033, 0.96666664]"
      ]
     },
     "execution_count": 10,
     "metadata": {},
     "output_type": "execute_result"
    }
   ],
   "source": [
    "test_df = pd.read_csv('test.csv')\n",
    "test_df['color'] = test_df['color'].map(color_dict)\n",
    "test_df['marker'] = test_df['marker'].map(marker_dict)\n",
    "test_x = np.column_stack((test_df['x'].values,test_df['y'].values))\n",
    "model1.evaluate(test_x,test_df['color'].values)\n",
    "model2.evaluate(test_x,test_df['marker'].values)"
   ]
  },
  {
   "cell_type": "code",
   "execution_count": 11,
   "metadata": {},
   "outputs": [
    {
     "data": {
      "text/plain": [
       "array([[0., 0., 0., 0., 0., 1.]], dtype=float32)"
      ]
     },
     "execution_count": 11,
     "metadata": {},
     "output_type": "execute_result"
    }
   ],
   "source": [
    "np.round(model1.predict(np.array([[0,2.5]])))"
   ]
  },
  {
   "cell_type": "code",
   "execution_count": 12,
   "metadata": {},
   "outputs": [
    {
     "data": {
      "text/plain": [
       "array([[0., 0., 1.]], dtype=float32)"
      ]
     },
     "execution_count": 12,
     "metadata": {},
     "output_type": "execute_result"
    }
   ],
   "source": [
    "np.round(model2.predict(np.array([[0,2.5]])))"
   ]
  },
  {
   "cell_type": "markdown",
   "metadata": {},
   "source": [
    "#### Model Answer"
   ]
  },
  {
   "cell_type": "markdown",
   "metadata": {},
   "source": [
    "What we can do is use a one-hot representation of each of the labels, and have them concatenated to form one label that describesm the color and marker given the x and y values"
   ]
  },
  {
   "cell_type": "code",
   "execution_count": 13,
   "metadata": {},
   "outputs": [
    {
     "data": {
      "text/html": [
       "<div>\n",
       "<style scoped>\n",
       "    .dataframe tbody tr th:only-of-type {\n",
       "        vertical-align: middle;\n",
       "    }\n",
       "\n",
       "    .dataframe tbody tr th {\n",
       "        vertical-align: top;\n",
       "    }\n",
       "\n",
       "    .dataframe thead th {\n",
       "        text-align: right;\n",
       "    }\n",
       "</style>\n",
       "<table border=\"1\" class=\"dataframe\">\n",
       "  <thead>\n",
       "    <tr style=\"text-align: right;\">\n",
       "      <th></th>\n",
       "      <th>x</th>\n",
       "      <th>y</th>\n",
       "      <th>color</th>\n",
       "      <th>marker</th>\n",
       "    </tr>\n",
       "  </thead>\n",
       "  <tbody>\n",
       "    <tr>\n",
       "      <th>0</th>\n",
       "      <td>-0.765775</td>\n",
       "      <td>1.006452</td>\n",
       "      <td>red</td>\n",
       "      <td>^</td>\n",
       "    </tr>\n",
       "    <tr>\n",
       "      <th>1</th>\n",
       "      <td>0.229016</td>\n",
       "      <td>0.094320</td>\n",
       "      <td>red</td>\n",
       "      <td>^</td>\n",
       "    </tr>\n",
       "    <tr>\n",
       "      <th>2</th>\n",
       "      <td>0.189987</td>\n",
       "      <td>1.589141</td>\n",
       "      <td>red</td>\n",
       "      <td>^</td>\n",
       "    </tr>\n",
       "    <tr>\n",
       "      <th>3</th>\n",
       "      <td>0.580085</td>\n",
       "      <td>0.520488</td>\n",
       "      <td>red</td>\n",
       "      <td>^</td>\n",
       "    </tr>\n",
       "    <tr>\n",
       "      <th>4</th>\n",
       "      <td>0.292287</td>\n",
       "      <td>0.317852</td>\n",
       "      <td>red</td>\n",
       "      <td>^</td>\n",
       "    </tr>\n",
       "  </tbody>\n",
       "</table>\n",
       "</div>"
      ],
      "text/plain": [
       "          x         y color marker\n",
       "0 -0.765775  1.006452   red      ^\n",
       "1  0.229016  0.094320   red      ^\n",
       "2  0.189987  1.589141   red      ^\n",
       "3  0.580085  0.520488   red      ^\n",
       "4  0.292287  0.317852   red      ^"
      ]
     },
     "execution_count": 13,
     "metadata": {},
     "output_type": "execute_result"
    }
   ],
   "source": [
    "train_df = pd.read_csv('train.csv')\n",
    "train_df.head()"
   ]
  },
  {
   "cell_type": "code",
   "execution_count": 14,
   "metadata": {},
   "outputs": [],
   "source": [
    "one_hot_color = pd.get_dummies(train_df['color']).values\n",
    "one_hot_marker = pd.get_dummies(train_df['marker']).values"
   ]
  },
  {
   "cell_type": "code",
   "execution_count": 15,
   "metadata": {},
   "outputs": [
    {
     "name": "stdout",
     "output_type": "stream",
     "text": [
      "[[0 0 0 ... 0 0 1]\n",
      " [0 0 0 ... 0 0 1]\n",
      " [0 0 0 ... 0 0 1]\n",
      " ...\n",
      " [0 0 0 ... 1 0 0]\n",
      " [0 0 0 ... 1 0 0]\n",
      " [0 0 0 ... 1 0 0]]\n"
     ]
    }
   ],
   "source": [
    "label = np.concatenate((one_hot_color,one_hot_marker),axis = 1)\n",
    "print(label)"
   ]
  },
  {
   "cell_type": "code",
   "execution_count": 16,
   "metadata": {},
   "outputs": [
    {
     "name": "stdout",
     "output_type": "stream",
     "text": [
      "Train on 6000 samples\n",
      "Epoch 1/20\n",
      "6000/6000 [==============================] - 2s 390us/sample - loss: 0.6703 - accuracy: 0.8532\n",
      "Epoch 2/20\n",
      "6000/6000 [==============================] - 2s 300us/sample - loss: 0.6560 - accuracy: 0.8795\n",
      "Epoch 3/20\n",
      "6000/6000 [==============================] - 2s 289us/sample - loss: 0.6543 - accuracy: 0.8827\n",
      "Epoch 4/20\n",
      "6000/6000 [==============================] - 2s 295us/sample - loss: 0.6536 - accuracy: 0.8840\n",
      "Epoch 5/20\n",
      "6000/6000 [==============================] - 2s 298us/sample - loss: 0.6535 - accuracy: 0.8838\n",
      "Epoch 6/20\n",
      "6000/6000 [==============================] - 2s 296us/sample - loss: 0.6531 - accuracy: 0.8847\n",
      "Epoch 7/20\n",
      "6000/6000 [==============================] - 2s 416us/sample - loss: 0.6526 - accuracy: 0.8862\n",
      "Epoch 8/20\n",
      "6000/6000 [==============================] - 2s 305us/sample - loss: 0.6433 - accuracy: 0.9150\n",
      "Epoch 9/20\n",
      "6000/6000 [==============================] - 2s 308us/sample - loss: 0.6368 - accuracy: 0.9323\n",
      "Epoch 10/20\n",
      "6000/6000 [==============================] - 2s 304us/sample - loss: 0.6352 - accuracy: 0.9356\n",
      "Epoch 11/20\n",
      "6000/6000 [==============================] - 2s 313us/sample - loss: 0.6349 - accuracy: 0.9353\n",
      "Epoch 12/20\n",
      "6000/6000 [==============================] - 2s 316us/sample - loss: 0.6341 - accuracy: 0.9367\n",
      "Epoch 13/20\n",
      "6000/6000 [==============================] - 2s 304us/sample - loss: 0.6342 - accuracy: 0.9358\n",
      "Epoch 14/20\n",
      "6000/6000 [==============================] - 2s 316us/sample - loss: 0.6339 - accuracy: 0.9367\n",
      "Epoch 15/20\n",
      "6000/6000 [==============================] - 2s 397us/sample - loss: 0.6334 - accuracy: 0.9375\n",
      "Epoch 16/20\n",
      "6000/6000 [==============================] - 2s 329us/sample - loss: 0.6335 - accuracy: 0.9370\n",
      "Epoch 17/20\n",
      "6000/6000 [==============================] - 2s 309us/sample - loss: 0.6331 - accuracy: 0.9377\n",
      "Epoch 18/20\n",
      "6000/6000 [==============================] - 2s 308us/sample - loss: 0.6334 - accuracy: 0.9370\n",
      "Epoch 19/20\n",
      "6000/6000 [==============================] - 2s 387us/sample - loss: 0.6332 - accuracy: 0.9374\n",
      "Epoch 20/20\n",
      "6000/6000 [==============================] - 2s 295us/sample - loss: 0.6331 - accuracy: 0.9374\n"
     ]
    },
    {
     "data": {
      "text/plain": [
       "<tensorflow.python.keras.callbacks.History at 0x2a53c33b888>"
      ]
     },
     "execution_count": 16,
     "metadata": {},
     "output_type": "execute_result"
    }
   ],
   "source": [
    "model = keras.Sequential([\n",
    "    keras.layers.Dense(64, input_shape = (2,), activation = 'relu'),\n",
    "    keras.layers.Dense(92, activation = 'relu'),\n",
    "    keras.layers.Dense(9, activation = 'sigmoid')\n",
    "])\n",
    "\n",
    "model.compile(optimizer = 'adam',\n",
    "             loss = keras.losses.BinaryCrossentropy(from_logits = True),\n",
    "             metrics = ['accuracy'])\n",
    "\n",
    "x = np.column_stack((train_df['x'].values, train_df['y'].values))\n",
    "np.random.RandomState(seed = 42).shuffle(x)\n",
    "np.random.RandomState(seed = 42).shuffle(label)\n",
    "model.fit(x,label,batch_size = 4, epochs = 20)"
   ]
  },
  {
   "cell_type": "code",
   "execution_count": 17,
   "metadata": {},
   "outputs": [],
   "source": [
    "test_df = pd.read_csv('test.csv')\n",
    "test_one_hot_color = pd.get_dummies(test_df['color']).values\n",
    "test_one_hot_marker = pd.get_dummies(test_df['marker']).values\n",
    "test_labels = np.concatenate((test_one_hot_color,test_one_hot_marker),axis = 1)"
   ]
  },
  {
   "cell_type": "code",
   "execution_count": 20,
   "metadata": {},
   "outputs": [
    {
     "name": "stdout",
     "output_type": "stream",
     "text": [
      "1200/1200 [==============================] - 0s 195us/sample - loss: 0.6367 - accuracy: 0.9306\n"
     ]
    },
    {
     "data": {
      "text/plain": [
       "[0.6366690683364868, 0.9305555]"
      ]
     },
     "execution_count": 20,
     "metadata": {},
     "output_type": "execute_result"
    }
   ],
   "source": [
    "test_x = np.column_stack((test_df['x'].values,test_df['y'].values))\n",
    "model.evaluate(test_x,test_labels)"
   ]
  },
  {
   "cell_type": "code",
   "execution_count": 21,
   "metadata": {},
   "outputs": [
    {
     "data": {
      "text/plain": [
       "array([[0., 0., 0., 1., 0., 0., 1., 0., 0.],\n",
       "       [0., 0., 0., 0., 1., 0., 0., 0., 1.],\n",
       "       [0., 1., 0., 0., 0., 0., 0., 1., 0.]], dtype=float32)"
      ]
     },
     "execution_count": 21,
     "metadata": {},
     "output_type": "execute_result"
    }
   ],
   "source": [
    "np.round(model.predict(np.array([[0,3],[0,1],[-2,1]])))"
   ]
  },
  {
   "cell_type": "code",
   "execution_count": null,
   "metadata": {},
   "outputs": [],
   "source": []
  }
 ],
 "metadata": {
  "kernelspec": {
   "display_name": "Python 3",
   "language": "python",
   "name": "python3"
  },
  "language_info": {
   "codemirror_mode": {
    "name": "ipython",
    "version": 3
   },
   "file_extension": ".py",
   "mimetype": "text/x-python",
   "name": "python",
   "nbconvert_exporter": "python",
   "pygments_lexer": "ipython3",
   "version": "3.7.7"
  }
 },
 "nbformat": 4,
 "nbformat_minor": 4
}
