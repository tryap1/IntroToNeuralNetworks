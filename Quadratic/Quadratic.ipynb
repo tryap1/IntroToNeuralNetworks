{
 "cells": [
  {
   "cell_type": "code",
   "execution_count": 1,
   "metadata": {},
   "outputs": [],
   "source": [
    "import tensorflow as tf\n",
    "from tensorflow import keras\n",
    "import pandas as pd\n",
    "import numpy as np"
   ]
  },
  {
   "cell_type": "code",
   "execution_count": 8,
   "metadata": {},
   "outputs": [
    {
     "data": {
      "text/html": [
       "<div>\n",
       "<style scoped>\n",
       "    .dataframe tbody tr th:only-of-type {\n",
       "        vertical-align: middle;\n",
       "    }\n",
       "\n",
       "    .dataframe tbody tr th {\n",
       "        vertical-align: top;\n",
       "    }\n",
       "\n",
       "    .dataframe thead th {\n",
       "        text-align: right;\n",
       "    }\n",
       "</style>\n",
       "<table border=\"1\" class=\"dataframe\">\n",
       "  <thead>\n",
       "    <tr style=\"text-align: right;\">\n",
       "      <th></th>\n",
       "      <th>x</th>\n",
       "      <th>y</th>\n",
       "      <th>color</th>\n",
       "    </tr>\n",
       "  </thead>\n",
       "  <tbody>\n",
       "    <tr>\n",
       "      <th>0</th>\n",
       "      <td>4.098318</td>\n",
       "      <td>15.318052</td>\n",
       "      <td>1.0</td>\n",
       "    </tr>\n",
       "    <tr>\n",
       "      <th>1</th>\n",
       "      <td>-2.497390</td>\n",
       "      <td>4.662162</td>\n",
       "      <td>1.0</td>\n",
       "    </tr>\n",
       "    <tr>\n",
       "      <th>2</th>\n",
       "      <td>0.913420</td>\n",
       "      <td>-0.962096</td>\n",
       "      <td>1.0</td>\n",
       "    </tr>\n",
       "    <tr>\n",
       "      <th>3</th>\n",
       "      <td>-4.967788</td>\n",
       "      <td>23.018647</td>\n",
       "      <td>1.0</td>\n",
       "    </tr>\n",
       "    <tr>\n",
       "      <th>4</th>\n",
       "      <td>-2.185878</td>\n",
       "      <td>3.355812</td>\n",
       "      <td>1.0</td>\n",
       "    </tr>\n",
       "  </tbody>\n",
       "</table>\n",
       "</div>"
      ],
      "text/plain": [
       "          x          y  color\n",
       "0  4.098318  15.318052    1.0\n",
       "1 -2.497390   4.662162    1.0\n",
       "2  0.913420  -0.962096    1.0\n",
       "3 -4.967788  23.018647    1.0\n",
       "4 -2.185878   3.355812    1.0"
      ]
     },
     "execution_count": 8,
     "metadata": {},
     "output_type": "execute_result"
    }
   ],
   "source": [
    "train_df = pd.read_csv('train.csv')\n",
    "np.random.shuffle(train_df.values)\n",
    "train_df.head()"
   ]
  },
  {
   "cell_type": "code",
   "execution_count": 9,
   "metadata": {},
   "outputs": [
    {
     "name": "stdout",
     "output_type": "stream",
     "text": [
      "Train on 4000 samples\n",
      "Epoch 1/5\n",
      "4000/4000 [==============================] - 1s 363us/sample - loss: 0.6517 - accuracy: 0.6665\n",
      "Epoch 2/5\n",
      "4000/4000 [==============================] - 1s 265us/sample - loss: 0.5979 - accuracy: 0.7477\n",
      "Epoch 3/5\n",
      "4000/4000 [==============================] - 1s 254us/sample - loss: 0.5732 - accuracy: 0.7765\n",
      "Epoch 4/5\n",
      "4000/4000 [==============================] - 1s 252us/sample - loss: 0.5441 - accuracy: 0.8158\n",
      "Epoch 5/5\n",
      "4000/4000 [==============================] - 1s 293us/sample - loss: 0.5140 - accuracy: 0.8475\n"
     ]
    },
    {
     "data": {
      "text/plain": [
       "<tensorflow.python.keras.callbacks.History at 0x1a6e0356848>"
      ]
     },
     "execution_count": 9,
     "metadata": {},
     "output_type": "execute_result"
    }
   ],
   "source": [
    "model = keras.Sequential([\n",
    "    keras.layers.Dense(8, input_shape = (2,), activation = 'relu'),\n",
    "    keras.layers.Dense(2, activation = 'sigmoid')\n",
    "])\n",
    "\n",
    "model.compile(optimizer = 'adam',\n",
    "             loss = keras.losses.SparseCategoricalCrossentropy(from_logits = True),\n",
    "             metrics = ['accuracy'])\n",
    "x = np.column_stack((train_df['x'].values, train_df['y'].values))\n",
    "model.fit(x,train_df['color'].values,batch_size = 4, epochs = 5)"
   ]
  },
  {
   "cell_type": "code",
   "execution_count": 6,
   "metadata": {},
   "outputs": [
    {
     "name": "stdout",
     "output_type": "stream",
     "text": [
      "1000/1000 [==============================] - 0s 125us/sample - loss: 0.5362 - accuracy: 0.8000\n"
     ]
    },
    {
     "data": {
      "text/plain": [
       "[0.5362379958629608, 0.8]"
      ]
     },
     "execution_count": 6,
     "metadata": {},
     "output_type": "execute_result"
    }
   ],
   "source": [
    "test_df = pd.read_csv('test.csv')\n",
    "test_x = np.column_stack((test_df['x'].values,test_df['y'].values))\n",
    "model.evaluate(test_x,test_df['color'].values)"
   ]
  },
  {
   "cell_type": "markdown",
   "metadata": {},
   "source": [
    "#### Because of increase in complexity, it would be necessary to also increase the complexity of the inner layers of the network"
   ]
  },
  {
   "cell_type": "code",
   "execution_count": 10,
   "metadata": {},
   "outputs": [
    {
     "name": "stdout",
     "output_type": "stream",
     "text": [
      "Train on 4000 samples\n",
      "Epoch 1/5\n",
      "4000/4000 [==============================] - 1s 330us/sample - loss: 0.6171 - accuracy: 0.7222\n",
      "Epoch 2/5\n",
      "4000/4000 [==============================] - 1s 250us/sample - loss: 0.5578 - accuracy: 0.8075\n",
      "Epoch 3/5\n",
      "4000/4000 [==============================] - 1s 251us/sample - loss: 0.5093 - accuracy: 0.8670\n",
      "Epoch 4/5\n",
      "4000/4000 [==============================] - 1s 309us/sample - loss: 0.4655 - accuracy: 0.9155\n",
      "Epoch 5/5\n",
      "4000/4000 [==============================] - 1s 358us/sample - loss: 0.4347 - accuracy: 0.9408\n"
     ]
    },
    {
     "data": {
      "text/plain": [
       "<tensorflow.python.keras.callbacks.History at 0x1a6e172c508>"
      ]
     },
     "execution_count": 10,
     "metadata": {},
     "output_type": "execute_result"
    }
   ],
   "source": [
    "model = keras.Sequential([\n",
    "    keras.layers.Dense(32, input_shape = (2,), activation = 'relu'),\n",
    "    keras.layers.Dense(2, activation = 'sigmoid')\n",
    "])\n",
    "\n",
    "model.compile(optimizer = 'adam',\n",
    "             loss = keras.losses.SparseCategoricalCrossentropy(from_logits = True),\n",
    "             metrics = ['accuracy'])\n",
    "x = np.column_stack((train_df['x'].values, train_df['y'].values))\n",
    "model.fit(x,train_df['color'].values,batch_size = 4, epochs = 5)"
   ]
  },
  {
   "cell_type": "markdown",
   "metadata": {},
   "source": [
    "#### Consider adding a dropout layer"
   ]
  },
  {
   "cell_type": "code",
   "execution_count": 11,
   "metadata": {},
   "outputs": [
    {
     "name": "stdout",
     "output_type": "stream",
     "text": [
      "Train on 4000 samples\n",
      "Epoch 1/5\n",
      "4000/4000 [==============================] - 2s 393us/sample - loss: 0.6316 - accuracy: 0.6812\n",
      "Epoch 2/5\n",
      "4000/4000 [==============================] - 1s 284us/sample - loss: 0.5786 - accuracy: 0.7533\n",
      "Epoch 3/5\n",
      "4000/4000 [==============================] - 1s 254us/sample - loss: 0.5452 - accuracy: 0.7872\n",
      "Epoch 4/5\n",
      "4000/4000 [==============================] - 1s 278us/sample - loss: 0.5087 - accuracy: 0.8235\n",
      "Epoch 5/5\n",
      "4000/4000 [==============================] - 1s 356us/sample - loss: 0.4821 - accuracy: 0.8490\n"
     ]
    },
    {
     "data": {
      "text/plain": [
       "<tensorflow.python.keras.callbacks.History at 0x1a6de9f1208>"
      ]
     },
     "execution_count": 11,
     "metadata": {},
     "output_type": "execute_result"
    }
   ],
   "source": [
    "model = keras.Sequential([\n",
    "    keras.layers.Dense(32, input_shape = (2,), activation = 'relu'),\n",
    "    keras.layers.Dropout(0.2),\n",
    "    keras.layers.Dense(2, activation = 'sigmoid')\n",
    "])\n",
    "\n",
    "model.compile(optimizer = 'adam',\n",
    "             loss = keras.losses.SparseCategoricalCrossentropy(from_logits = True),\n",
    "             metrics = ['accuracy'])\n",
    "x = np.column_stack((train_df['x'].values, train_df['y'].values))\n",
    "model.fit(x,train_df['color'].values,batch_size = 4, epochs = 5)"
   ]
  },
  {
   "cell_type": "markdown",
   "metadata": {},
   "source": [
    "#### Didnt Help! Lets perhaps try adding another layer instead"
   ]
  },
  {
   "cell_type": "code",
   "execution_count": 13,
   "metadata": {},
   "outputs": [
    {
     "name": "stdout",
     "output_type": "stream",
     "text": [
      "Train on 4000 samples\n",
      "Epoch 1/5\n",
      "4000/4000 [==============================] - 2s 389us/sample - loss: 0.5813 - accuracy: 0.7390\n",
      "Epoch 2/5\n",
      "4000/4000 [==============================] - 1s 287us/sample - loss: 0.4635 - accuracy: 0.8717\n",
      "Epoch 3/5\n",
      "4000/4000 [==============================] - 1s 281us/sample - loss: 0.4009 - accuracy: 0.9400\n",
      "Epoch 4/5\n",
      "4000/4000 [==============================] - 2s 378us/sample - loss: 0.3675 - accuracy: 0.9703\n",
      "Epoch 5/5\n",
      "4000/4000 [==============================] - 1s 295us/sample - loss: 0.3494 - accuracy: 0.9833\n"
     ]
    },
    {
     "data": {
      "text/plain": [
       "<tensorflow.python.keras.callbacks.History at 0x1a6e1c17b08>"
      ]
     },
     "execution_count": 13,
     "metadata": {},
     "output_type": "execute_result"
    }
   ],
   "source": [
    "model = keras.Sequential([\n",
    "    keras.layers.Dense(32, input_shape = (2,), activation = 'relu'),\n",
    "    keras.layers.Dense(32,activation = 'relu'),\n",
    "    keras.layers.Dense(2, activation = 'sigmoid')\n",
    "])\n",
    "\n",
    "model.compile(optimizer = 'adam',\n",
    "             loss = keras.losses.SparseCategoricalCrossentropy(from_logits = True),\n",
    "             metrics = ['accuracy'])\n",
    "x = np.column_stack((train_df['x'].values, train_df['y'].values))\n",
    "model.fit(x,train_df['color'].values,batch_size = 4, epochs = 5)"
   ]
  },
  {
   "cell_type": "code",
   "execution_count": 14,
   "metadata": {},
   "outputs": [
    {
     "name": "stdout",
     "output_type": "stream",
     "text": [
      "1000/1000 [==============================] - 0s 134us/sample - loss: 0.3452 - accuracy: 0.9930\n"
     ]
    },
    {
     "data": {
      "text/plain": [
       "[0.3451958258152008, 0.993]"
      ]
     },
     "execution_count": 14,
     "metadata": {},
     "output_type": "execute_result"
    }
   ],
   "source": [
    "test_df = pd.read_csv('test.csv')\n",
    "test_x = np.column_stack((test_df['x'].values,test_df['y'].values))\n",
    "model.evaluate(test_x,test_df['color'].values)"
   ]
  },
  {
   "cell_type": "markdown",
   "metadata": {},
   "source": [
    "#### Not too bad, 99% on the test data"
   ]
  },
  {
   "cell_type": "code",
   "execution_count": null,
   "metadata": {},
   "outputs": [],
   "source": []
  }
 ],
 "metadata": {
  "kernelspec": {
   "display_name": "Python 3",
   "language": "python",
   "name": "python3"
  },
  "language_info": {
   "codemirror_mode": {
    "name": "ipython",
    "version": 3
   },
   "file_extension": ".py",
   "mimetype": "text/x-python",
   "name": "python",
   "nbconvert_exporter": "python",
   "pygments_lexer": "ipython3",
   "version": "3.7.7"
  }
 },
 "nbformat": 4,
 "nbformat_minor": 4
}
